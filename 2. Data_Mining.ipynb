{
 "cells": [
  {
   "cell_type": "markdown",
   "id": "5b57dbe2",
   "metadata": {},
   "source": [
    "# Data Mining"
   ]
  },
  {
   "cell_type": "markdown",
   "id": "4631298b-f95c-4db7-a24f-1db779bdce41",
   "metadata": {},
   "source": [
    "The Google's Stock Price data is obtained by using the Yahoo Finance library with the **GOOG** symbol starting from the January 1, 2000 until the December 1, 2023. Also, obtained dataset can be found with **Google_Stock_Price_Dataset.csv** file name."
   ]
  },
  {
   "cell_type": "code",
   "execution_count": 1,
   "id": "12ffae2d-53fb-4d6c-828f-75d4d50ee0f4",
   "metadata": {},
   "outputs": [],
   "source": [
    "# library for data manipulation\n",
    "import pandas as pd\n",
    "\n",
    "# library for the stock price data\n",
    "import yfinance as yf\n",
    "\n",
    "# library for the date-time manipulation\n",
    "from datetime import date, datetime, timedelta"
   ]
  },
  {
   "cell_type": "code",
   "execution_count": 2,
   "id": "69e20c5b-e1b5-42ee-b774-e333f53962fb",
   "metadata": {},
   "outputs": [],
   "source": [
    "# Determining start date\n",
    "start_date = datetime(year=2000, month=1, day=1)\n",
    "end_date = date.today()"
   ]
  },
  {
   "cell_type": "code",
   "execution_count": 3,
   "id": "81797dce-1961-456a-820c-fe211e22b7cc",
   "metadata": {},
   "outputs": [
    {
     "name": "stdout",
     "output_type": "stream",
     "text": [
      "[*********************100%***********************]  1 of 1 completed\n"
     ]
    }
   ],
   "source": [
    "stock_data = yf.download('GOOG',\n",
    "                         start = start_date,\n",
    "                         end = end_date,\n",
    "                         progress = True)"
   ]
  },
  {
   "cell_type": "code",
   "execution_count": 4,
   "id": "f453b096-0666-469c-b45f-7f27d2aa2c47",
   "metadata": {},
   "outputs": [],
   "source": [
    "# resetting and renaming to avoid program faileres that might occur on the next steps\n",
    "stock_data = stock_data.reset_index()\n",
    "stock_data.rename(columns={'Adj Close':'Adj_Close'}, inplace=True)"
   ]
  },
  {
   "cell_type": "code",
   "execution_count": 5,
   "id": "61610dc4-dbf9-4177-83a5-d2eb4c4a587f",
   "metadata": {},
   "outputs": [
    {
     "data": {
      "text/plain": [
       "(4856, 7)"
      ]
     },
     "execution_count": 5,
     "metadata": {},
     "output_type": "execute_result"
    }
   ],
   "source": [
    "stock_data.shape"
   ]
  },
  {
   "cell_type": "code",
   "execution_count": 7,
   "id": "3a3e10d7-32f8-44a6-a5c4-160b9a3030ca",
   "metadata": {},
   "outputs": [
    {
     "data": {
      "text/html": [
       "<div>\n",
       "<style scoped>\n",
       "    .dataframe tbody tr th:only-of-type {\n",
       "        vertical-align: middle;\n",
       "    }\n",
       "\n",
       "    .dataframe tbody tr th {\n",
       "        vertical-align: top;\n",
       "    }\n",
       "\n",
       "    .dataframe thead th {\n",
       "        text-align: right;\n",
       "    }\n",
       "</style>\n",
       "<table border=\"1\" class=\"dataframe\">\n",
       "  <thead>\n",
       "    <tr style=\"text-align: right;\">\n",
       "      <th></th>\n",
       "      <th>Date</th>\n",
       "      <th>Open</th>\n",
       "      <th>High</th>\n",
       "      <th>Low</th>\n",
       "      <th>Close</th>\n",
       "      <th>Adj_Close</th>\n",
       "      <th>Volume</th>\n",
       "    </tr>\n",
       "  </thead>\n",
       "  <tbody>\n",
       "    <tr>\n",
       "      <th>0</th>\n",
       "      <td>2004-08-19</td>\n",
       "      <td>2.490664</td>\n",
       "      <td>2.591785</td>\n",
       "      <td>2.390042</td>\n",
       "      <td>2.499133</td>\n",
       "      <td>2.499133</td>\n",
       "      <td>897427216</td>\n",
       "    </tr>\n",
       "    <tr>\n",
       "      <th>1</th>\n",
       "      <td>2004-08-20</td>\n",
       "      <td>2.515820</td>\n",
       "      <td>2.716817</td>\n",
       "      <td>2.503118</td>\n",
       "      <td>2.697639</td>\n",
       "      <td>2.697639</td>\n",
       "      <td>458857488</td>\n",
       "    </tr>\n",
       "    <tr>\n",
       "      <th>2</th>\n",
       "      <td>2004-08-23</td>\n",
       "      <td>2.758411</td>\n",
       "      <td>2.826406</td>\n",
       "      <td>2.716070</td>\n",
       "      <td>2.724787</td>\n",
       "      <td>2.724787</td>\n",
       "      <td>366857939</td>\n",
       "    </tr>\n",
       "    <tr>\n",
       "      <th>3</th>\n",
       "      <td>2004-08-24</td>\n",
       "      <td>2.770615</td>\n",
       "      <td>2.779581</td>\n",
       "      <td>2.579581</td>\n",
       "      <td>2.611960</td>\n",
       "      <td>2.611960</td>\n",
       "      <td>306396159</td>\n",
       "    </tr>\n",
       "    <tr>\n",
       "      <th>4</th>\n",
       "      <td>2004-08-25</td>\n",
       "      <td>2.614201</td>\n",
       "      <td>2.689918</td>\n",
       "      <td>2.587302</td>\n",
       "      <td>2.640104</td>\n",
       "      <td>2.640104</td>\n",
       "      <td>184645512</td>\n",
       "    </tr>\n",
       "    <tr>\n",
       "      <th>...</th>\n",
       "      <td>...</td>\n",
       "      <td>...</td>\n",
       "      <td>...</td>\n",
       "      <td>...</td>\n",
       "      <td>...</td>\n",
       "      <td>...</td>\n",
       "      <td>...</td>\n",
       "    </tr>\n",
       "    <tr>\n",
       "      <th>4851</th>\n",
       "      <td>2023-11-27</td>\n",
       "      <td>137.570007</td>\n",
       "      <td>139.630005</td>\n",
       "      <td>137.539993</td>\n",
       "      <td>138.050003</td>\n",
       "      <td>138.050003</td>\n",
       "      <td>17886400</td>\n",
       "    </tr>\n",
       "    <tr>\n",
       "      <th>4852</th>\n",
       "      <td>2023-11-28</td>\n",
       "      <td>137.630005</td>\n",
       "      <td>138.660004</td>\n",
       "      <td>137.039993</td>\n",
       "      <td>138.619995</td>\n",
       "      <td>138.619995</td>\n",
       "      <td>17046900</td>\n",
       "    </tr>\n",
       "    <tr>\n",
       "      <th>4853</th>\n",
       "      <td>2023-11-29</td>\n",
       "      <td>138.985001</td>\n",
       "      <td>139.669998</td>\n",
       "      <td>136.294998</td>\n",
       "      <td>136.399994</td>\n",
       "      <td>136.399994</td>\n",
       "      <td>21014700</td>\n",
       "    </tr>\n",
       "    <tr>\n",
       "      <th>4854</th>\n",
       "      <td>2023-11-30</td>\n",
       "      <td>136.399994</td>\n",
       "      <td>136.960007</td>\n",
       "      <td>132.789993</td>\n",
       "      <td>133.919998</td>\n",
       "      <td>133.919998</td>\n",
       "      <td>29913500</td>\n",
       "    </tr>\n",
       "    <tr>\n",
       "      <th>4855</th>\n",
       "      <td>2023-12-01</td>\n",
       "      <td>133.320007</td>\n",
       "      <td>133.500000</td>\n",
       "      <td>132.151993</td>\n",
       "      <td>133.320007</td>\n",
       "      <td>133.320007</td>\n",
       "      <td>24258400</td>\n",
       "    </tr>\n",
       "  </tbody>\n",
       "</table>\n",
       "<p>4856 rows × 7 columns</p>\n",
       "</div>"
      ],
      "text/plain": [
       "           Date        Open        High         Low       Close   Adj_Close  \\\n",
       "0    2004-08-19    2.490664    2.591785    2.390042    2.499133    2.499133   \n",
       "1    2004-08-20    2.515820    2.716817    2.503118    2.697639    2.697639   \n",
       "2    2004-08-23    2.758411    2.826406    2.716070    2.724787    2.724787   \n",
       "3    2004-08-24    2.770615    2.779581    2.579581    2.611960    2.611960   \n",
       "4    2004-08-25    2.614201    2.689918    2.587302    2.640104    2.640104   \n",
       "...         ...         ...         ...         ...         ...         ...   \n",
       "4851 2023-11-27  137.570007  139.630005  137.539993  138.050003  138.050003   \n",
       "4852 2023-11-28  137.630005  138.660004  137.039993  138.619995  138.619995   \n",
       "4853 2023-11-29  138.985001  139.669998  136.294998  136.399994  136.399994   \n",
       "4854 2023-11-30  136.399994  136.960007  132.789993  133.919998  133.919998   \n",
       "4855 2023-12-01  133.320007  133.500000  132.151993  133.320007  133.320007   \n",
       "\n",
       "         Volume  \n",
       "0     897427216  \n",
       "1     458857488  \n",
       "2     366857939  \n",
       "3     306396159  \n",
       "4     184645512  \n",
       "...         ...  \n",
       "4851   17886400  \n",
       "4852   17046900  \n",
       "4853   21014700  \n",
       "4854   29913500  \n",
       "4855   24258400  \n",
       "\n",
       "[4856 rows x 7 columns]"
      ]
     },
     "execution_count": 7,
     "metadata": {},
     "output_type": "execute_result"
    }
   ],
   "source": [
    "stock_data"
   ]
  },
  {
   "cell_type": "code",
   "execution_count": 10,
   "id": "bf7829a9-2557-4e43-9ad3-d56b62e4f3e1",
   "metadata": {},
   "outputs": [],
   "source": [
    "stock_data.to_csv('Google_Stock_Price_Dataset.csv', index=False)"
   ]
  }
 ],
 "metadata": {
  "kernelspec": {
   "display_name": "Python 3 (ipykernel)",
   "language": "python",
   "name": "python3"
  },
  "language_info": {
   "codemirror_mode": {
    "name": "ipython",
    "version": 3
   },
   "file_extension": ".py",
   "mimetype": "text/x-python",
   "name": "python",
   "nbconvert_exporter": "python",
   "pygments_lexer": "ipython3",
   "version": "3.11.5"
  }
 },
 "nbformat": 4,
 "nbformat_minor": 5
}
