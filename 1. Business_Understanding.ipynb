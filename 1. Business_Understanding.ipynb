{
 "cells": [
  {
   "cell_type": "markdown",
   "id": "f12bd986-631a-4a0b-a53e-1ba2a870709c",
   "metadata": {},
   "source": [
    "# Business Understanding"
   ]
  },
  {
   "cell_type": "markdown",
   "id": "17fbaed7-93af-469b-b50d-97f080ab52bc",
   "metadata": {},
   "source": [
    "---"
   ]
  },
  {
   "cell_type": "markdown",
   "id": "da8291d4",
   "metadata": {},
   "source": [
    "In this project, the following question is tried to answer;  \n",
    "**Can the next stock price of a company be predicted with regression apoach?**"
   ]
  },
  {
   "cell_type": "markdown",
   "id": "881c5161-8ca5-47c0-967c-d649a8d22bec",
   "metadata": {},
   "source": [
    "---"
   ]
  }
 ],
 "metadata": {
  "kernelspec": {
   "display_name": "Python 3 (ipykernel)",
   "language": "python",
   "name": "python3"
  },
  "language_info": {
   "codemirror_mode": {
    "name": "ipython",
    "version": 3
   },
   "file_extension": ".py",
   "mimetype": "text/x-python",
   "name": "python",
   "nbconvert_exporter": "python",
   "pygments_lexer": "ipython3",
   "version": "3.11.5"
  }
 },
 "nbformat": 4,
 "nbformat_minor": 5
}
